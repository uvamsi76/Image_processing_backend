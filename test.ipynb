{
 "cells": [
  {
   "cell_type": "code",
   "execution_count": 15,
   "metadata": {},
   "outputs": [],
   "source": [
    "import pandas as pd"
   ]
  },
  {
   "cell_type": "code",
   "execution_count": 23,
   "metadata": {},
   "outputs": [],
   "source": [
    "data = {\n",
    "    \"S. No.\": [1, 2, 3],\n",
    "    \"Product Name\": [\"SKU1\", \"SKU2\", \"SKU3\"],\n",
    "    \"Input Image Urls\": [['https://drive.google.com/file/d/1Euim_lg9U-bpzPCzSnctN1rXWooiV4EO/view?usp=drive_link','https://drive.google.com/file/d/13ow16cw2PSBlk99nuoFlCyqHJ9hWNgjN/view?usp=drive_link','https://drive.google.com/file/d/1LIjMTllHX9ztK2F3DWVaMNtCCrGet7_K/view?usp=drive_link'], \n",
    "                         ['https://drive.google.com/file/d/1nYSl4WooBuaOMb7HOfq1HmRIFywtQulX/view?usp=drive_link','https://drive.google.com/file/d/1fH1mysu5YRKSn7ERjfvsmw2pGLMWY_Xx/view?usp=drive_link','https://drive.google.com/file/d/1DPdmJ0m5BwXO5N4zVuMKlbJMPMgBXEU_/view?usp=drive_link'],\n",
    "                          ['https://drive.google.com/file/d/15_aFXWWrbUGzEnfO8TxdU0j4ub204ZsH/view?usp=drive_link','https://drive.google.com/file/d/1YJRu6M07SSXy4qeXofnWXH8KCZqlBoU8/view?usp=drive_link','https://drive.google.com/file/d/10_621W1uHlfG9eqpyo-NS0JMXMOVyunY/view?usp=drive_link']],\n",
    "    }"
   ]
  },
  {
   "cell_type": "code",
   "execution_count": 24,
   "metadata": {},
   "outputs": [],
   "source": [
    "df=pd.DataFrame(data)"
   ]
  },
  {
   "cell_type": "code",
   "execution_count": 26,
   "metadata": {},
   "outputs": [
    {
     "data": {
      "text/html": [
       "<div>\n",
       "<style scoped>\n",
       "    .dataframe tbody tr th:only-of-type {\n",
       "        vertical-align: middle;\n",
       "    }\n",
       "\n",
       "    .dataframe tbody tr th {\n",
       "        vertical-align: top;\n",
       "    }\n",
       "\n",
       "    .dataframe thead th {\n",
       "        text-align: right;\n",
       "    }\n",
       "</style>\n",
       "<table border=\"1\" class=\"dataframe\">\n",
       "  <thead>\n",
       "    <tr style=\"text-align: right;\">\n",
       "      <th></th>\n",
       "      <th>S. No.</th>\n",
       "      <th>Product Name</th>\n",
       "      <th>Input Image Urls</th>\n",
       "    </tr>\n",
       "  </thead>\n",
       "  <tbody>\n",
       "    <tr>\n",
       "      <th>0</th>\n",
       "      <td>1</td>\n",
       "      <td>SKU1</td>\n",
       "      <td>[https://drive.google.com/file/d/1Euim_lg9U-bp...</td>\n",
       "    </tr>\n",
       "    <tr>\n",
       "      <th>1</th>\n",
       "      <td>2</td>\n",
       "      <td>SKU2</td>\n",
       "      <td>[https://drive.google.com/file/d/1nYSl4WooBuaO...</td>\n",
       "    </tr>\n",
       "    <tr>\n",
       "      <th>2</th>\n",
       "      <td>3</td>\n",
       "      <td>SKU3</td>\n",
       "      <td>[https://drive.google.com/file/d/15_aFXWWrbUGz...</td>\n",
       "    </tr>\n",
       "  </tbody>\n",
       "</table>\n",
       "</div>"
      ],
      "text/plain": [
       "   S. No. Product Name                                   Input Image Urls\n",
       "0       1         SKU1  [https://drive.google.com/file/d/1Euim_lg9U-bp...\n",
       "1       2         SKU2  [https://drive.google.com/file/d/1nYSl4WooBuaO...\n",
       "2       3         SKU3  [https://drive.google.com/file/d/15_aFXWWrbUGz..."
      ]
     },
     "execution_count": 26,
     "metadata": {},
     "output_type": "execute_result"
    }
   ],
   "source": [
    "df.head()"
   ]
  },
  {
   "cell_type": "code",
   "execution_count": 17,
   "metadata": {},
   "outputs": [],
   "source": [
    "# df.remove(columns=[''],).head()"
   ]
  },
  {
   "cell_type": "code",
   "execution_count": 35,
   "metadata": {},
   "outputs": [],
   "source": [
    "df=pd.read_csv('data/data.csv')"
   ]
  },
  {
   "cell_type": "code",
   "execution_count": 2,
   "metadata": {},
   "outputs": [],
   "source": [
    "import requests\n",
    "from io import BytesIO\n",
    "from PIL import Image"
   ]
  },
  {
   "cell_type": "code",
   "execution_count": 3,
   "metadata": {},
   "outputs": [],
   "source": [
    "import pandas as pd\n",
    "import json\n",
    "import ast"
   ]
  },
  {
   "cell_type": "code",
   "execution_count": 4,
   "metadata": {},
   "outputs": [],
   "source": [
    "from pydrive.auth import GoogleAuth\n",
    "from pydrive.drive import GoogleDrive\n",
    "from oauth2client.service_account import ServiceAccountCredentials"
   ]
  },
  {
   "cell_type": "code",
   "execution_count": 5,
   "metadata": {},
   "outputs": [],
   "source": [
    "def authenticate_drive():\n",
    "    \"\"\"Authenticate and return a Google Drive instance\"\"\"\n",
    "    scope = [\"https://www.googleapis.com/auth/drive\"]\n",
    "    credentials = ServiceAccountCredentials.from_json_keyfile_name(\"service_account.json\", scope)\n",
    "    \n",
    "    gauth = GoogleAuth()\n",
    "    gauth.credentials = credentials\n",
    "    return GoogleDrive(gauth)\n",
    "\n",
    "\n",
    "def upload_to_drive(filename=\"compressed.jpg\"):\n",
    "    \"\"\"Upload image data to Google Drive and return the file's public URL\"\"\"\n",
    "    drive = authenticate_drive()\n",
    "    img_file = drive.CreateFile({'title': filename})\n",
    "    img_file.SetContentFile(filename)\n",
    "    img_file.Upload()\n",
    "    \n",
    "    # Make file public\n",
    "    img_file.InsertPermission({'type': 'anyone', 'value': 'anyone', 'role': 'reader'})\n",
    "    \n",
    "    return f\"https://drive.google.com/uc?id={img_file['id']}\""
   ]
  },
  {
   "cell_type": "code",
   "execution_count": 7,
   "metadata": {},
   "outputs": [],
   "source": [
    "# file_id = image_url.split(\"id=\")[1]\n",
    "# response = requests.get(image_url)\n",
    "# if response.status_code == 200:\n",
    "#     img = Image.open(BytesIO(response.content))\n",
    "#     if img.mode in (\"RGBA\", \"P\"):\n",
    "#         img = img.convert(\"RGB\")\n",
    "#     output_filename = f'compressed-{file_id}'\n",
    "#     img.save(f'compressed-{file_id}', format=\"JPEG\", quality=50)\n",
    "#     drive_link = upload_to_drive(output_filename)"
   ]
  },
  {
   "cell_type": "code",
   "execution_count": 13,
   "metadata": {},
   "outputs": [],
   "source": [
    "\n",
    "df['Processed Image Urls']='processed_url'\n",
    "for i,row in df.iterrows():\n",
    "    a=ast.literal_eval(row['Input Image Urls'])\n",
    "    # print(a)\n",
    "    b=[]\n",
    "    for j,image_url in enumerate(a):\n",
    "        file_id = image_url.split(\"id=\")[1]\n",
    "        response = requests.get(image_url)\n",
    "        if response.status_code != 200:\n",
    "            print('issue with getting image')\n",
    "        img = Image.open(BytesIO(response.content))\n",
    "        if img.mode in (\"RGBA\", \"P\"):\n",
    "            img = img.convert(\"RGB\")\n",
    "        output_filename = f'compressed-{file_id}'\n",
    "        img.save(f'compressed-{file_id}', format=\"JPEG\", quality=50)\n",
    "        drive_link = upload_to_drive(output_filename)\n",
    "        b.append(drive_link)\n",
    "    df.loc[i, 'Processed Image Urls'] = str(b)"
   ]
  },
  {
   "cell_type": "code",
   "execution_count": 15,
   "metadata": {},
   "outputs": [
    {
     "data": {
      "text/html": [
       "<div>\n",
       "<style scoped>\n",
       "    .dataframe tbody tr th:only-of-type {\n",
       "        vertical-align: middle;\n",
       "    }\n",
       "\n",
       "    .dataframe tbody tr th {\n",
       "        vertical-align: top;\n",
       "    }\n",
       "\n",
       "    .dataframe thead th {\n",
       "        text-align: right;\n",
       "    }\n",
       "</style>\n",
       "<table border=\"1\" class=\"dataframe\">\n",
       "  <thead>\n",
       "    <tr style=\"text-align: right;\">\n",
       "      <th></th>\n",
       "      <th>Unnamed: 0</th>\n",
       "      <th>S. No.</th>\n",
       "      <th>Product Name</th>\n",
       "      <th>Input Image Urls</th>\n",
       "      <th>Processed Image Urls</th>\n",
       "    </tr>\n",
       "  </thead>\n",
       "  <tbody>\n",
       "    <tr>\n",
       "      <th>0</th>\n",
       "      <td>0</td>\n",
       "      <td>1</td>\n",
       "      <td>SKU1</td>\n",
       "      <td>['https://drive.google.com/uc?export=download&amp;...</td>\n",
       "      <td>['https://drive.google.com/uc?id=1SljV4-n671vY...</td>\n",
       "    </tr>\n",
       "    <tr>\n",
       "      <th>1</th>\n",
       "      <td>1</td>\n",
       "      <td>2</td>\n",
       "      <td>SKU2</td>\n",
       "      <td>['https://drive.google.com/uc?export=download&amp;...</td>\n",
       "      <td>['https://drive.google.com/uc?id=1lGZhHA9GcNho...</td>\n",
       "    </tr>\n",
       "    <tr>\n",
       "      <th>2</th>\n",
       "      <td>2</td>\n",
       "      <td>3</td>\n",
       "      <td>SKU3</td>\n",
       "      <td>['https://drive.google.com/uc?export=download&amp;...</td>\n",
       "      <td>['https://drive.google.com/uc?id=1RHvWNmBSkxp8...</td>\n",
       "    </tr>\n",
       "  </tbody>\n",
       "</table>\n",
       "</div>"
      ],
      "text/plain": [
       "   Unnamed: 0  S. No. Product Name  \\\n",
       "0           0       1         SKU1   \n",
       "1           1       2         SKU2   \n",
       "2           2       3         SKU3   \n",
       "\n",
       "                                    Input Image Urls  \\\n",
       "0  ['https://drive.google.com/uc?export=download&...   \n",
       "1  ['https://drive.google.com/uc?export=download&...   \n",
       "2  ['https://drive.google.com/uc?export=download&...   \n",
       "\n",
       "                                Processed Image Urls  \n",
       "0  ['https://drive.google.com/uc?id=1SljV4-n671vY...  \n",
       "1  ['https://drive.google.com/uc?id=1lGZhHA9GcNho...  \n",
       "2  ['https://drive.google.com/uc?id=1RHvWNmBSkxp8...  "
      ]
     },
     "execution_count": 15,
     "metadata": {},
     "output_type": "execute_result"
    }
   ],
   "source": [
    "df.head()"
   ]
  },
  {
   "cell_type": "code",
   "execution_count": 12,
   "metadata": {},
   "outputs": [
    {
     "data": {
      "text/plain": [
       "\"['https://drive.google.com/uc?export=download&id=15_aFXWWrbUGzEnfO8TxdU0j4ub204ZsH', 'https://drive.google.com/uc?export=download&id=1YJRu6M07SSXy4qeXofnWXH8KCZqlBoU8', 'https://drive.google.com/uc?export=download&id=10_621W1uHlfG9eqpyo-NS0JMXMOVyunY']\""
      ]
     },
     "execution_count": 12,
     "metadata": {},
     "output_type": "execute_result"
    }
   ],
   "source": [
    "df.iloc[2]['Input Image Urls']"
   ]
  },
  {
   "cell_type": "code",
   "execution_count": null,
   "metadata": {},
   "outputs": [],
   "source": [
    "import requests\n",
    "\n",
    "url = \"https://telegra.ph/upload\"\n",
    "files = {\"file\": open(\"compressed-1DPdmJ0m5BwXO5N4zVuMKlbJMPMgBXEU_.jpg\", \"rb\")}\n",
    "response = requests.post(url, files=files)\n",
    "print(\"https://telegra.ph\" + response.json()[0][\"src\"])  # Direct image link"
   ]
  },
  {
   "cell_type": "code",
   "execution_count": null,
   "metadata": {},
   "outputs": [
    {
     "name": "stdout",
     "output_type": "stream",
     "text": [
      "https://files.catbox.moe/gq782p.jpg\n"
     ]
    }
   ],
   "source": []
  },
  {
   "cell_type": "code",
   "execution_count": null,
   "metadata": {},
   "outputs": [],
   "source": []
  },
  {
   "cell_type": "code",
   "execution_count": null,
   "metadata": {},
   "outputs": [],
   "source": []
  }
 ],
 "metadata": {
  "kernelspec": {
   "display_name": "venv",
   "language": "python",
   "name": "python3"
  },
  "language_info": {
   "codemirror_mode": {
    "name": "ipython",
    "version": 3
   },
   "file_extension": ".py",
   "mimetype": "text/x-python",
   "name": "python",
   "nbconvert_exporter": "python",
   "pygments_lexer": "ipython3",
   "version": "3.12.3"
  }
 },
 "nbformat": 4,
 "nbformat_minor": 2
}
