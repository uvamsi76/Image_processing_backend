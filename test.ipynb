{
 "cells": [
  {
   "cell_type": "code",
   "execution_count": 15,
   "metadata": {},
   "outputs": [],
   "source": [
    "import pandas as pd"
   ]
  },
  {
   "cell_type": "code",
   "execution_count": 16,
   "metadata": {},
   "outputs": [],
   "source": [
    "data = {\n",
    "    \"S. No.\": [1, 2, 3],\n",
    "    \"Product Name\": [\"SKU1\", \"SKU2\", \"SKU3\"],\n",
    "    \"Input Image Urls\": [['https://drive.google.com/file/d/1Euim_lg9U-bpzPCzSnctN1rXWooiV4EO/view?usp=drive_link','https://drive.google.com/file/d/13ow16cw2PSBlk99nuoFlCyqHJ9hWNgjN/view?usp=drive_link','https://drive.google.com/file/d/1LIjMTllHX9ztK2F3DWVaMNtCCrGet7_K/view?usp=drive_link'], \n",
    "                         ['https://drive.google.com/file/d/1nYSl4WooBuaOMb7HOfq1HmRIFywtQulX/view?usp=drive_link','https://drive.google.com/file/d/1fH1mysu5YRKSn7ERjfvsmw2pGLMWY_Xx/view?usp=drive_link','https://drive.google.com/file/d/1DPdmJ0m5BwXO5N4zVuMKlbJMPMgBXEU_/view?usp=drive_link'],\n",
    "                          ['https://drive.google.com/file/d/15_aFXWWrbUGzEnfO8TxdU0j4ub204ZsH/view?usp=drive_link','https://drive.google.com/file/d/1YJRu6M07SSXy4qeXofnWXH8KCZqlBoU8/view?usp=drive_link','https://drive.google.com/file/d/10_621W1uHlfG9eqpyo-NS0JMXMOVyunY/view?usp=drive_link']],\n",
    "    }"
   ]
  },
  {
   "cell_type": "code",
   "execution_count": 17,
   "metadata": {},
   "outputs": [],
   "source": [
    "df=pd.DataFrame(data)"
   ]
  },
  {
   "cell_type": "code",
   "execution_count": 21,
   "metadata": {},
   "outputs": [],
   "source": [
    "df.to_csv('data/data.csv')"
   ]
  }
 ],
 "metadata": {
  "kernelspec": {
   "display_name": "venv",
   "language": "python",
   "name": "python3"
  },
  "language_info": {
   "codemirror_mode": {
    "name": "ipython",
    "version": 3
   },
   "file_extension": ".py",
   "mimetype": "text/x-python",
   "name": "python",
   "nbconvert_exporter": "python",
   "pygments_lexer": "ipython3",
   "version": "3.12.3"
  }
 },
 "nbformat": 4,
 "nbformat_minor": 2
}
